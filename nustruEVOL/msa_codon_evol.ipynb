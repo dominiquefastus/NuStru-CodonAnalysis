{
 "cells": [
  {
   "cell_type": "code",
   "execution_count": 1,
   "metadata": {},
   "outputs": [
    {
     "data": {
      "text/html": [
       "        <script type=\"text/javascript\">\n",
       "        window.PlotlyConfig = {MathJaxConfig: 'local'};\n",
       "        if (window.MathJax && window.MathJax.Hub && window.MathJax.Hub.Config) {window.MathJax.Hub.Config({SVG: {font: \"STIX-Web\"}});}\n",
       "        if (typeof require !== 'undefined') {\n",
       "        require.undef(\"plotly\");\n",
       "        requirejs.config({\n",
       "            paths: {\n",
       "                'plotly': ['https://cdn.plot.ly/plotly-2.29.1.min']\n",
       "            }\n",
       "        });\n",
       "        require(['plotly'], function(Plotly) {\n",
       "            window._Plotly = Plotly;\n",
       "        });\n",
       "        }\n",
       "        </script>\n",
       "        "
      ]
     },
     "metadata": {},
     "output_type": "display_data"
    }
   ],
   "source": [
    "from Bio import AlignIO\n",
    "from Bio import SeqIO\n",
    "import pandas as pd\n",
    "import numpy as np\n",
    "import argparse\n",
    "import os\n",
    "\n",
    "from ete3 import Tree\n",
    "\n",
    "from pycirclize import Circos\n",
    "\n",
    "from plotly.offline import init_notebook_mode, iplot\n",
    "init_notebook_mode(connected=True)\n",
    "\n",
    "from plotly.subplots import make_subplots\n",
    "import plotly.graph_objects as go\n",
    "\n",
    "\n",
    "import matplotlib.pyplot as plt\n",
    "import seaborn as sns"
   ]
  },
  {
   "cell_type": "markdown",
   "metadata": {},
   "source": [
    "# Calculate and map the Codon rarity at each position of a multiple sequence alignment"
   ]
  },
  {
   "cell_type": "markdown",
   "metadata": {},
   "source": [
    "### Function to calculate the codon rarity at each position of a multiple sequence alignment:\n",
    "CRS = Codon Rarity Score, AA = Amino Acid, occ = Occurence, f_c = Frequency of codon, len = Length, aln = Alignment, gaps = Gaps, n_aln = Number of sequences in the alignment\n",
    "$$ CRS_{position}= {\\sum \\limits _{AA_{AA}} ^{n_{aln}}(\\sum \\limits _{occ=1} ^{n_{aln}} {AA_{occ}} * f_c) \\over {len_{total}(alignment)} - (gaps)} $$\n",
    "$$ f_c = { \\sum n_c \\over \\sum n_{AA} } * { 1 \\over n_{cAA} } $$"
   ]
  },
  {
   "cell_type": "markdown",
   "metadata": {},
   "source": [
    "## Set data to analyse"
   ]
  },
  {
   "cell_type": "code",
   "execution_count": 10,
   "metadata": {},
   "outputs": [],
   "source": [
    "alignment_file = \"/Users/dominiquefastus/master_project/NuStru/nustruEVOL/test_seq_aln.fasta\" # \"/Users/dominiquefastus/Downloads/nustruTREE/MSA/rtx_prot_fam_ecoli_protein_aligned.fasta\"\n",
    "nt_fasta_file = None # \"/Users/dominiquefastus/Downloads/nustruTREE/MSA/rtx_prot_fam_ecoli_nucleotide.fasta\"\n",
    "nustruDB = \"/Users/dominiquefastus/master_project/NuStru/nustruDB/protFAMS/ddl_fam_secstru.csv\" # \"/Users/dominiquefastus/Downloads/rtx_prot_fam_ecoli_secstru.csv\"\n",
    "# tree_file = \"/Users/dominiquefastus/Downloads/nustruTREE/TREE/rtx_prot_fam_ecoli_protein.tree\"\n",
    "output_path = \"/Users/dominiquefastus/master_project/NuStru/nustruEVOL/\" # \"/Users/dominiquefastus/master_project/NuStru/nustruEVOL/nustruTREE/MSA\"\n",
    "\n",
    "nustrudb = pd.read_csv(nustruDB)\n",
    "protein_alignment = AlignIO.read(alignment_file, \"fasta\")\n",
    "if nt_fasta_file is not None:\n",
    "    nucleotide_sequences = SeqIO.parse(nt_fasta_file, \"fasta\")\n",
    "else:\n",
    "    for record in protein_alignment:\n",
    "        nucleotide_id = nustrudb.loc[nustrudb[\"primary_id\"] == record.id][\"nucleotide_id\"].values[0]\n",
    "        nucleotide_sequence = nustrudb.loc[nustrudb[\"primary_id\"] == record.id][\"nucleotide_sequence\"].values[0]\n",
    "        with open(f\"{output_path}/nucleotide_sequences.fasta\", \"a\") as f:\n",
    "            f.write(f\">{nucleotide_id}\\n{nucleotide_sequence}\\n\")\n",
    "    nucleotide_sequences = SeqIO.parse(f\"{output_path}/nucleotide_sequences.fasta\", \"fasta\")"
   ]
  },
  {
   "cell_type": "code",
   "execution_count": 9,
   "metadata": {},
   "outputs": [
    {
     "name": "stdout",
     "output_type": "stream",
     "text": [
      "Alignment with 5 rows and 364 columns\n",
      "MTKLRVGLLFGGCSGEHEVSITSARAIAKALSSGQNTSKYEILP...ASD A0A2N6MJF9\n",
      "MTKLRVGLLFGGCSGEHEVSISSARAIAKALSSGQNTSKYEILP...ASD A0A2N6KKZ6\n",
      "MTKLRVGLLFGGCSGEHEVSITSARAIAKALSSGQNTSKYEILP...ASD A0A1U7GUR5\n",
      "MTKLRVGLLFGGCSGEHEVSITSARAIAKALSSGQNTSKYEILP...ASD A0A0S3TUK2\n",
      "MTKLRVGLLFGGCSGEHEVSITSARAIAKALSSGQNTSKYEILP...ASD G6FZT9\n"
     ]
    },
    {
     "ename": "TypeError",
     "evalue": "object of type 'FastaIterator' has no len()",
     "output_type": "error",
     "traceback": [
      "\u001b[0;31m---------------------------------------------------------------------------\u001b[0m",
      "\u001b[0;31mTypeError\u001b[0m                                 Traceback (most recent call last)",
      "Cell \u001b[0;32mIn[9], line 2\u001b[0m\n\u001b[1;32m      1\u001b[0m \u001b[38;5;28mprint\u001b[39m(protein_alignment)\n\u001b[0;32m----> 2\u001b[0m \u001b[38;5;28mprint\u001b[39m(\u001b[38;5;28;43mlen\u001b[39;49m\u001b[43m(\u001b[49m\u001b[43mnucleotide_sequences\u001b[49m\u001b[43m)\u001b[49m)\n",
      "\u001b[0;31mTypeError\u001b[0m: object of type 'FastaIterator' has no len()"
     ]
    }
   ],
   "source": [
    "print(protein_alignment)"
   ]
  },
  {
   "cell_type": "markdown",
   "metadata": {},
   "source": [
    "## Define functions"
   ]
  },
  {
   "cell_type": "code",
   "execution_count": 11,
   "metadata": {},
   "outputs": [],
   "source": [
    "def fasta_to_array(fasta, align_to=None, codon=False):\n",
    "    all_seqs = []\n",
    "    all_ids = []\n",
    "    \n",
    "    if codon:\n",
    "        for (ind,record) in enumerate(fasta):\n",
    "            all_seqs.append(list(str(record.seq)))\n",
    "            all_seqs[ind] = [''.join(map(str, all_seqs[ind][i:i+3])) for i in range(0, len(all_seqs[ind]), 3)]\n",
    "            \n",
    "    else:           \n",
    "        for record in fasta:\n",
    "            all_seqs.append(list(str(record.seq)))\n",
    "            all_ids.append(record.id)\n",
    "        \n",
    "        all_seqs = np.array(all_seqs)\n",
    "\n",
    "    if align_to is not None:\n",
    "        gap_indeces = np.where(align_to == '-')\n",
    "        \n",
    "        for gap_index in zip(gap_indeces[0], gap_indeces[1]):\n",
    "            all_seqs[gap_index[0]].insert(gap_index[1], '---')\n",
    "        \n",
    "        all_seqs = np.array(all_seqs)\n",
    "        # deleting stop codons as no protein assigned to them\n",
    "        all_seqs = np.delete(all_seqs, -1, axis=1)\n",
    "    \n",
    "    all_ids = np.array(all_ids).reshape(len(all_ids), 1)\n",
    "    \n",
    "    return all_seqs\n",
    "\n",
    "def cub_msa_table(prot_seq_arr=None, cod_seq_arr=None):\n",
    "    cub_table = {\n",
    "    # '*': {'TAA': None, 'TAG': None, 'TGA': None}, ignoring stop codons\n",
    "    'A': {'GCA': None, 'GCC': None, 'GCG': None, 'GCT': None},\n",
    "    'C': {'TGC': None, 'TGT': None},\n",
    "    'D': {'GAC': None, 'GAT': None},\n",
    "    'E': {'GAA': None, 'GAG': None},\n",
    "    'F': {'TTC': None, 'TTT': None},\n",
    "    'G': {'GGA': None, 'GGC': None, 'GGG': None, 'GGT': None},\n",
    "    'H': {'CAC': None, 'CAT': None},\n",
    "    'I': {'ATA': None, 'ATC': None, 'ATT': None},\n",
    "    'K': {'AAA': None, 'AAG': None},\n",
    "    'L': {'CTA': None, 'CTC': None, 'CTG': None, 'CTT': None, 'TTA': None, 'TTG': None},\n",
    "    'M': {'ATG': None},\n",
    "    'N': {'AAC': None, 'AAT': None},\n",
    "    'P': {'CCA': None, 'CCC': None, 'CCG': None, 'CCT': None},\n",
    "    'Q': {'CAA': None, 'CAG': None},\n",
    "    'R': {'AGA': None, 'AGG': None, 'CGA': None, 'CGC': None, 'CGG': None, 'CGT': None},\n",
    "    'S': {'AGC': None, 'AGT': None, 'TCA': None, 'TCC': None, 'TCG': None, 'TCT': None},\n",
    "    'T': {'ACA': None, 'ACC': None, 'ACG': None, 'ACT': None},\n",
    "    'V': {'GTA': None, 'GTC': None, 'GTG': None, 'GTT': None},\n",
    "    'W': {'TGG': None},\n",
    "    'Y': {'TAC': None, 'TAT': None}}\n",
    "    \n",
    "    for aa in cub_table.keys():\n",
    "        n_AA = np.count_nonzero(prot_seq_arr == aa)\n",
    "                \n",
    "        nc_AA = len(cub_table[aa].keys())\n",
    "        \n",
    "        for codon in cub_table[aa].keys():\n",
    "            nc = np.count_nonzero(cod_seq_arr == codon)\n",
    "            \n",
    "            fc =(nc / n_AA) * 1/nc_AA\n",
    "\n",
    "            cub_table[aa][codon] = round(fc,6)\n",
    "        \n",
    "    return cub_table\n",
    "\n",
    "def map_rarity(protein_alignment, nustrudb, cu_table):\n",
    "    codon_position_start = 0\n",
    "    alignment_value_matrix = np.zeros((len(protein_alignment), len(protein_alignment[0])))\n",
    "    seq_name = [seq.id for seq in protein_alignment]\n",
    "    seq_pos = [i for i in range(len(protein_alignment[0]))]\n",
    "\n",
    "    sart_count = [0 for i in range(len(seq_name))]\n",
    "    pos_count_dict = {seq_name[i]: 0 for i in range(len(seq_name))}\n",
    "    for position in range(len(protein_alignment[0])):\n",
    "\n",
    "        for i, (aa, seq) in enumerate(zip(protein_alignment[:,position],seq_name)):\n",
    "            if aa == '-':\n",
    "                alignment_value_matrix[i, position] = 0\n",
    "                pos_count_dict[seq] += 1\n",
    "            else:\n",
    "                prot_position = pos_count_dict[seq]\n",
    "                position_adj = position - prot_position\n",
    "                \n",
    "                sequence = nustrudb[nustrudb[\"primary_id\"] == seq][\"nucleotide_sequence\"].values[0]\n",
    "                alignment_value_matrix[i, position] = cu_table[aa][sequence[position_adj*3:position_adj*3+3].upper()]\n",
    "\n",
    "    residue_sum = []\n",
    "    for col_mean in np.sum(alignment_value_matrix, axis=0):\n",
    "        residue_sum.append(col_mean / len(seq_name))\n",
    "        \n",
    "    residue_max = []\n",
    "    for col_max in np.max(alignment_value_matrix, axis=0):\n",
    "        residue_max.append(col_max)\n",
    "        \n",
    "    sequence_sum = {}\n",
    "    for col_mean, name in zip(np.sum(alignment_value_matrix, axis=1), seq_name):\n",
    "        sequence_sum[name] = round((col_mean / len(alignment_value_matrix[0])), 5)\n",
    "    \n",
    "    return alignment_value_matrix, seq_name, seq_pos, residue_sum, residue_max, sequence_sum\n",
    "\n",
    "def sum_distances_to_root(tree):\n",
    "    leaf_distances = {}\n",
    "    for leaf in tree.iter_leaves():\n",
    "        current, distance_sum = leaf, 0\n",
    "        while not current.is_root():\n",
    "            distance_sum += current.dist\n",
    "            current = current.up\n",
    "        leaf_distances[leaf.name] = round(distance_sum, 5)\n",
    "    return leaf_distances"
   ]
  },
  {
   "cell_type": "markdown",
   "metadata": {},
   "source": [
    "## Transform alignment and sequences to arrays and align the gaps if necessary"
   ]
  },
  {
   "cell_type": "code",
   "execution_count": 12,
   "metadata": {},
   "outputs": [],
   "source": [
    "all_seqs_protein = fasta_to_array(protein_alignment, codon=False)\n",
    "all_seqs_nt = fasta_to_array(fasta=nucleotide_sequences, align_to=all_seqs_protein, codon=True)"
   ]
  },
  {
   "cell_type": "markdown",
   "metadata": {},
   "source": [
    "## Calculate the codon frequency for each amino acid based on the alignment"
   ]
  },
  {
   "cell_type": "markdown",
   "metadata": {},
   "source": [
    "#### $$ f_c = { \\sum n_c \\over \\sum n_{AA} } * { 1 \\over n_{cAA} } $$"
   ]
  },
  {
   "cell_type": "code",
   "execution_count": 14,
   "metadata": {},
   "outputs": [],
   "source": [
    "def cub_msa_table(prot_seq_arr=None, cod_seq_arr=None):\n",
    "    cub_table = {\n",
    "    # '*': {'TAA': None, 'TAG': None, 'TGA': None}, ignoring stop codons\n",
    "    'A': {'GCA': None, 'GCC': None, 'GCG': None, 'GCT': None},\n",
    "    'C': {'TGC': None, 'TGT': None},\n",
    "    'D': {'GAC': None, 'GAT': None},\n",
    "    'E': {'GAA': None, 'GAG': None},\n",
    "    'F': {'TTC': None, 'TTT': None},\n",
    "    'G': {'GGA': None, 'GGC': None, 'GGG': None, 'GGT': None},\n",
    "    'H': {'CAC': None, 'CAT': None},\n",
    "    'I': {'ATA': None, 'ATC': None, 'ATT': None},\n",
    "    'K': {'AAA': None, 'AAG': None},\n",
    "    'L': {'CTA': None, 'CTC': None, 'CTG': None, 'CTT': None, 'TTA': None, 'TTG': None},\n",
    "    'M': {'ATG': None},\n",
    "    'N': {'AAC': None, 'AAT': None},\n",
    "    'P': {'CCA': None, 'CCC': None, 'CCG': None, 'CCT': None},\n",
    "    'Q': {'CAA': None, 'CAG': None},\n",
    "    'R': {'AGA': None, 'AGG': None, 'CGA': None, 'CGC': None, 'CGG': None, 'CGT': None},\n",
    "    'S': {'AGC': None, 'AGT': None, 'TCA': None, 'TCC': None, 'TCG': None, 'TCT': None},\n",
    "    'T': {'ACA': None, 'ACC': None, 'ACG': None, 'ACT': None},\n",
    "    'V': {'GTA': None, 'GTC': None, 'GTG': None, 'GTT': None},\n",
    "    'W': {'TGG': None},\n",
    "    'Y': {'TAC': None, 'TAT': None}}\n",
    "    \n",
    "    for aa in cub_table.keys():\n",
    "           \n",
    "        # total number of the amino acid or total number of codon for the amino acid\n",
    "        n_AA = np.count_nonzero(prot_seq_arr == aa)\n",
    "                \n",
    "        # total number of codons for each amino acid\n",
    "        nc_AA = len(cub_table[aa].keys())\n",
    "        \n",
    "        for codon in cub_table[aa].keys():\n",
    "            \n",
    "            # number of a codon in the alignment for each amino acid\n",
    "            nc = np.count_nonzero(cod_seq_arr == codon)\n",
    "            \n",
    "            # caluclate the frequency of codons in the alignment for each amino acid\n",
    "            fc =(nc / n_AA) * 1/nc_AA\n",
    "            \n",
    "            \n",
    "            # round the frequency to 5 decimal places and assign it to the codon usage bias table\n",
    "            cub_table[aa][codon] = round(fc,5)\n",
    "        \n",
    "    return cub_table\n",
    "        \n",
    "cub_msa_table_ddla = cub_msa_table(prot_seq_arr=all_seqs_protein, cod_seq_arr=all_seqs_nt)\n",
    "    "
   ]
  },
  {
   "cell_type": "markdown",
   "metadata": {},
   "source": [
    "## Calculate the Codon Rarity Score for each position of the alignment"
   ]
  },
  {
   "cell_type": "markdown",
   "metadata": {},
   "source": [
    "#### $$ CR_{position}= {\\sum \\limits _{AA_{AA}} ^{n_{aln}}(\\sum \\limits _{occ=1} ^{n_{aln}} {AA_{occ}} * f_c) \\over {len_{total}(alignment)} - (gaps)} $$"
   ]
  },
  {
   "cell_type": "code",
   "execution_count": null,
   "metadata": {},
   "outputs": [],
   "source": [
    "cub_msa_table_ddla = cub_msa_table(prot_seq_arr=all_seqs_protein, cod_seq_arr=all_seqs_nt)\n",
    "alignment_value_matrix, seq_name, seq_pos, residue_sum, residue_max, sequence_sum = map_rarity(protein_alignment, nustrudb, cub_msa_table_ddla)\n",
    "\n",
    "sorted_alignment_value_matrix = np.sort(alignment_value_matrix, axis=0)\n",
    "sorted_alignment_value_matrix = np.flip(sorted_alignment_value_matrix, axis=0)"
   ]
  },
  {
   "cell_type": "markdown",
   "metadata": {},
   "source": [
    "## Visualize the Codon Rarity Score for each position of the alignment in MSA"
   ]
  },
  {
   "cell_type": "code",
   "execution_count": null,
   "metadata": {},
   "outputs": [],
   "source": [
    "fig = make_subplots(rows=3, cols=1, shared_xaxes=True, vertical_spacing=0.02)\n",
    "fig.add_trace((go.Heatmap(z=sorted_alignment_value_matrix, y=seq_name, colorscale=\"reds\")), row=3, col=1)\n",
    "fig.add_trace((go.Heatmap(z=alignment_value_matrix, y=seq_name, colorscale=\"blues\")), row=2, col=1)\n",
    "fig.add_trace((go.Scatter(x=seq_pos, y=residue_max, mode=\"lines\", fill=\"toself\", line=dict(color=\"lightcoral\"))), row=1, col=1)\n",
    "iplot(fig)"
   ]
  },
  {
   "cell_type": "markdown",
   "metadata": {},
   "source": [
    "# Visualize the Codon Rarity Change in Circle Plot"
   ]
  },
  {
   "cell_type": "code",
   "execution_count": 60,
   "metadata": {},
   "outputs": [],
   "source": [
    "sectors = {}\n",
    "\n",
    "for seq in seq_name:\n",
    "    sectors[seq] = alignment_value_matrix.shape[1]\n",
    "    \n",
    "circos = Circos(sectors, space=5)\n",
    "\n",
    "for sector in circos.sectors:\n",
    "    \n",
    "    rarity = alignment_value_matrix[seq_name.index(sector.name)]\n",
    "    # add sequence track\n",
    "    sector.text(f\"{sector.name}\", r=110, size=10)\n",
    "    track = sector.add_track((95, 100))\n",
    "    track.axis()\n",
    "    track.text(sector.name, color=\"white\", size=12)\n",
    "    track.xticks_by_interval(50)\n",
    "    \n",
    "    # add codon rarity track\n",
    "    line_track = sector.add_track((85, 95), r_pad_ratio=0.1)\n",
    "    line_track.axis()\n",
    "    line_track.line(seq_pos,rarity)\n",
    "\n",
    "reference = all_seqs_nt\n",
    "for seq_num in range(0, len(all_seqs_nt)):\n",
    "    compare = np.tile(all_seqs_nt[seq_num], (len(all_seqs_nt), 1))\n",
    "\n",
    "    # Finding the differences\n",
    "    differences = compare != reference\n",
    "\n",
    "    # Getting the indices where the differences occur\n",
    "    diff_indices = np.where(differences)\n",
    "    \n",
    "    for codon_change in zip(diff_indices[0], diff_indices[1]):\n",
    "        seq_cod =  seq_name[codon_change[0]]\n",
    "        circos.link((f\"{seq_name[0]}\", codon_change[1], codon_change[1]), (f\"{seq_name[codon_change[0]]}\", codon_change[1], codon_change[1]))\n",
    "\n",
    "fig = circos.plotfig()\n"
   ]
  },
  {
   "cell_type": "code",
   "execution_count": null,
   "metadata": {},
   "outputs": [],
   "source": [
    "# Create matrix data (10 x 10)\n",
    "row_names = list(\"ABCDEFGHIJ\")\n",
    "col_names = row_names\n",
    "matrix_data = [\n",
    "    [51, 115, 60, 17, 120, 126, 115, 179, 127, 114],\n",
    "    [108, 138, 165, 170, 85, 221, 75, 107, 203, 79],\n",
    "    [108, 54, 72, 123, 84, 117, 106, 114, 50, 27],\n",
    "    [62, 134, 28, 185, 199, 179, 74, 94, 116, 108],\n",
    "    [211, 114, 49, 55, 202, 97, 10, 52, 99, 111],\n",
    "    [87, 6, 101, 117, 124, 171, 110, 14, 175, 164],\n",
    "    [167, 99, 109, 143, 98, 42, 95, 163, 134, 78],\n",
    "    [88, 83, 136, 71, 122, 20, 38, 264, 225, 115],\n",
    "    [145, 82, 87, 123, 121, 55, 80, 32, 50, 12],\n",
    "    [122, 109, 84, 94, 133, 75, 71, 115, 60, 210],\n",
    "]\n",
    "matrix_df = pd.DataFrame(matrix_data, index=row_names, columns=col_names)\n",
    "\n",
    "# Initialize from matrix (Can also directly load tsv matrix file)\n",
    "circos = Circos.initialize_from_matrix(\n",
    "    matrix_df,\n",
    "    space=3,\n",
    "    r_lim=(93, 100),\n",
    "    cmap=\"tab10\",\n",
    "    ticks_interval=500,\n",
    "    label_kws=dict(r=94, size=12, color=\"white\"),\n",
    ")\n",
    "\n",
    "print(matrix_df)\n",
    "fig = circos.plotfig()"
   ]
  },
  {
   "cell_type": "markdown",
   "metadata": {},
   "source": [
    "# Calculate and map the Codon conservation at each position of a multiple sequence alignment"
   ]
  },
  {
   "cell_type": "markdown",
   "metadata": {},
   "source": [
    "### Function to calculate the codon conservation at each position of a multiple sequence alignment:\n",
    "CCS = Codon Conservation Score,\n",
    "$$ CCS_{position} = ? $$"
   ]
  },
  {
   "cell_type": "markdown",
   "metadata": {},
   "source": [
    "# Plot the Codon Rarity Score against the branch length of the phylogenetic tree"
   ]
  },
  {
   "cell_type": "code",
   "execution_count": null,
   "metadata": {},
   "outputs": [],
   "source": [
    "tree = Tree(tree_file)\n",
    "leaf_distances = sum_distances_to_root(tree)\n",
    "x_values = [leaf_distances[key] for key in sorted(leaf_distances)]\n",
    "y_values = [sequence_sum[key] for key in sorted(sequence_sum)]\n",
    "\n",
    "'''\n",
    "keys = sorted(sequence_sum.keys())\n",
    "\n",
    "# Optionally, label each point\n",
    "for i, key in enumerate(keys):\n",
    "    plt.text(x_values[i], y_values[i], key)\n",
    "'''\n",
    "\n",
    "plt.figure(figsize=(8, 5))\n",
    "plt.style.use('ggplot')\n",
    "sns.regplot(x=x_values, y=y_values,\n",
    "            scatter_kws={'color': 'blue', 'alpha': 0.5}, \n",
    "            line_kws={'color': 'navy', })\n",
    "plt.title('Divergence of Codon Rarity')\n",
    "plt.xlabel('Branch Lengths from Root (divergence)')\n",
    "plt.ylabel('Codon Rarity Score (sum of all residues)')\n",
    "plt.show()"
   ]
  }
 ],
 "metadata": {
  "kernelspec": {
   "display_name": "CodonTree",
   "language": "python",
   "name": "python3"
  },
  "language_info": {
   "codemirror_mode": {
    "name": "ipython",
    "version": 3
   },
   "file_extension": ".py",
   "mimetype": "text/x-python",
   "name": "python",
   "nbconvert_exporter": "python",
   "pygments_lexer": "ipython3",
   "version": "3.12.2"
  }
 },
 "nbformat": 4,
 "nbformat_minor": 2
}
