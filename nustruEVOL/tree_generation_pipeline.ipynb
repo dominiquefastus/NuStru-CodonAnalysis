{
 "cells": [
  {
   "cell_type": "markdown",
   "metadata": {},
   "source": [
    "# Import python packages for pipeline"
   ]
  },
  {
   "cell_type": "code",
   "execution_count": 7,
   "metadata": {},
   "outputs": [],
   "source": [
    "from Bio import SeqIO\n",
    "import subprocess\n",
    "import shutil\n",
    "import os\n",
    "import sys\n",
    "from ete3 import Tree, TreeStyle, TextFace, NodeStyle"
   ]
  },
  {
   "cell_type": "markdown",
   "metadata": {},
   "source": [
    "# Install external softwares"
   ]
  },
  {
   "cell_type": "code",
   "execution_count": null,
   "metadata": {},
   "outputs": [],
   "source": [
    "if shutil.which(\"mmseqs\") is None:\n",
    "    subprocess.run(\"conda install -c conda-forge -c bioconda mmseqs2\", shell=True)\n",
    "    print(\"mmseqs2 not installed\")\n",
    "else:\n",
    "    print(\"mmseqs2 already installed: \", shutil.which(\"mmsa\"))\n",
    "    \n",
    "'''\n",
    "if shutil.which(\"kalign\") is None:\n",
    "    subprocess.run(\"conda install -c conda-forge -c bioconda mmseqs2\", shell=True)\n",
    "    print(\"mmseqs2 not installed\")\n",
    "else:\n",
    "    print(\"mmseqs2 already installed: \", shutil.which(\"mmsa\"))\n",
    "'''\n",
    "\n",
    "\n",
    "if shutil.which(\"FastTree\") is None:\n",
    "    subprocess.run(\"wget http://www.microbesonline.org/fasttree/FastTree.c\", shell=True)\n",
    "    print(\"mmseqs2 not installed\")\n",
    "else:\n",
    "    print(\"mmseqs2 already installed: \", shutil.which(\"mmsa\"))\n"
   ]
  },
  {
   "cell_type": "markdown",
   "metadata": {},
   "source": [
    "# Setup working directory and assign fasta input file"
   ]
  },
  {
   "cell_type": "code",
   "execution_count": 19,
   "metadata": {},
   "outputs": [],
   "source": [
    "# path to fasta file\n",
    "fasta_file = \"/Users/dominiquefastus/master_project/NuStru/nustruDB/filtered_NEW_ECOLI_FULL_uniprot_02.fasta\"\n",
    "\n",
    "# create tree structure for pipeline\n",
    "cwd = os.getcwd()\n",
    "if not os.path.exists(f'{cwd}/nustruTREE'):\n",
    "    mkdir = os.mkdir(f'{cwd}/nustruTREE')\n",
    "    mkdir = os.mkdir(f'{cwd}/nustruTREE/MSA')\n",
    "    mkdir = os.mkdir(f'{cwd}/nustruTREE/TREE')\n",
    "    \n",
    "shutil.copy(fasta_file, f'{cwd}/nustruTREE/MSA')\n",
    "\n",
    "# global variables\n",
    "global working_dir \n",
    "working_dir = f'{cwd}/nustruTREE/'"
   ]
  },
  {
   "cell_type": "markdown",
   "metadata": {},
   "source": [
    "# Run the sequence allignment with mmseqs2"
   ]
  },
  {
   "cell_type": "code",
   "execution_count": 22,
   "metadata": {},
   "outputs": [
    {
     "name": "stdout",
     "output_type": "stream",
     "text": [
      "/Users/dominiquefastus/master_project/NuStru/nustruEVOL/nustruTREE//MSA/filtered_NEW_ECOLI_FULL_uniprot_02.fasta.db exists and will be overwritten\n",
      "createdb /Users/dominiquefastus/master_project/NuStru/nustruEVOL/nustruTREE//MSA/filtered_NEW_ECOLI_FULL_uniprot_02.fasta /Users/dominiquefastus/master_project/NuStru/nustruEVOL/nustruTREE//MSA/filtered_NEW_ECOLI_FULL_uniprot_02.fasta.db \n",
      "\n",
      "MMseqs Version:       \t15-6f452\n",
      "Database type         \t0\n",
      "Shuffle input database\ttrue\n",
      "Createdb mode         \t0\n",
      "Write lookup file     \t1\n",
      "Offset of numeric ids \t0\n",
      "Compressed            \t0\n",
      "Verbosity             \t3\n",
      "\n",
      "Converting sequences\n",
      "[============================================\n",
      "Time for merging to filtered_NEW_ECOLI_FULL_uniprot_02.fasta.db_h: 0h 0m 0s 61ms\n",
      "Time for merging to filtered_NEW_ECOLI_FULL_uniprot_02.fasta.db: 0h 0m 0s 360ms\n",
      "Database type: Aminoacid\n",
      "Time for processing: 0h 0m 1s 195ms\n",
      "linclust /Users/dominiquefastus/master_project/NuStru/nustruEVOL/nustruTREE//MSA/filtered_NEW_ECOLI_FULL_uniprot_02.fasta.db /Users/dominiquefastus/master_project/NuStru/nustruEVOL/nustruTREE//MSA/cluster /Users/dominiquefastus/master_project/NuStru/nustruEVOL/nustruTREE//MSA/tmp --min-seq-id 0.9 -c 0.8 --cov-mode 1 \n",
      "\n",
      "MMseqs Version:                     \t15-6f452\n",
      "Cluster mode                        \t0\n",
      "Max connected component depth       \t1000\n",
      "Similarity type                     \t2\n",
      "Threads                             \t8\n",
      "Compressed                          \t0\n",
      "Verbosity                           \t3\n",
      "Weight file name                    \t\n",
      "Cluster Weight threshold            \t0.9\n",
      "Substitution matrix                 \taa:blosum62.out,nucl:nucleotide.out\n",
      "Add backtrace                       \tfalse\n",
      "Alignment mode                      \t2\n",
      "Alignment mode                      \t0\n",
      "Allow wrapped scoring               \tfalse\n",
      "E-value threshold                   \t0.001\n",
      "Seq. id. threshold                  \t0.9\n",
      "Min alignment length                \t0\n",
      "Seq. id. mode                       \t0\n",
      "Alternative alignments              \t0\n",
      "Coverage threshold                  \t0.8\n",
      "Coverage mode                       \t1\n",
      "Max sequence length                 \t65535\n",
      "Compositional bias                  \t1\n",
      "Compositional bias                  \t1\n",
      "Max reject                          \t2147483647\n",
      "Max accept                          \t2147483647\n",
      "Include identical seq. id.          \tfalse\n",
      "Preload mode                        \t0\n",
      "Pseudo count a                      \tsubstitution:1.100,context:1.400\n",
      "Pseudo count b                      \tsubstitution:4.100,context:5.800\n",
      "Score bias                          \t0\n",
      "Realign hits                        \tfalse\n",
      "Realign score bias                  \t-0.2\n",
      "Realign max seqs                    \t2147483647\n",
      "Correlation score weight            \t0\n",
      "Gap open cost                       \taa:11,nucl:5\n",
      "Gap extension cost                  \taa:1,nucl:2\n",
      "Zdrop                               \t40\n",
      "Alphabet size                       \taa:21,nucl:5\n",
      "k-mers per sequence                 \t21\n",
      "Spaced k-mers                       \t0\n",
      "Spaced k-mer pattern                \t\n",
      "Scale k-mers per sequence           \taa:0.000,nucl:0.200\n",
      "Adjust k-mer length                 \tfalse\n",
      "Mask residues                       \t0\n",
      "Mask residues probability           \t0.9\n",
      "Mask lower case residues            \t0\n",
      "k-mer length                        \t0\n",
      "Shift hash                          \t67\n",
      "Split memory limit                  \t0\n",
      "Include only extendable             \tfalse\n",
      "Skip repeating k-mers               \tfalse\n",
      "Rescore mode                        \t0\n",
      "Remove hits by seq. id. and coverage\tfalse\n",
      "Sort results                        \t0\n",
      "Remove temporary files              \tfalse\n",
      "Force restart with latest tmp       \tfalse\n",
      "MPI runner                          \t\n",
      "\n",
      "Set cluster mode GREEDY MEM.\n",
      "/Users/dominiquefastus/master_project/NuStru/nustruEVOL/nustruTREE//MSA/cluster.dbtype exists already!\n",
      "/Users/dominiquefastus/master_project/NuStru/nustruEVOL/nustruTREE//MSA/cluster.msa exists and will be overwritten\n",
      "result2msa /Users/dominiquefastus/master_project/NuStru/nustruEVOL/nustruTREE//MSA/filtered_NEW_ECOLI_FULL_uniprot_02.fasta.db /Users/dominiquefastus/master_project/NuStru/nustruEVOL/nustruTREE//MSA/filtered_NEW_ECOLI_FULL_uniprot_02.fasta.db /Users/dominiquefastus/master_project/NuStru/nustruEVOL/nustruTREE//MSA/cluster /Users/dominiquefastus/master_project/NuStru/nustruEVOL/nustruTREE//MSA/cluster.msa \n",
      "\n",
      "MMseqs Version:           \t15-6f452\n",
      "Substitution matrix       \taa:blosum62.out,nucl:nucleotide.out\n",
      "Gap open cost             \taa:11,nucl:5\n",
      "Gap extension cost        \taa:1,nucl:2\n",
      "Allow deletions           \tfalse\n",
      "Compositional bias        \t1\n",
      "Compositional bias        \t1\n",
      "MSA format mode           \t2\n",
      "Summary prefix            \tcl\n",
      "Skip query                \tfalse\n",
      "Filter MSA                \t0\n",
      "Use filter only at N seqs \t0\n",
      "Maximum seq. id. threshold\t0.9\n",
      "Minimum seq. id.          \t0.0\n",
      "Minimum score per column  \t-20\n",
      "Minimum coverage          \t0\n",
      "Select N most diverse seqs\t1000\n",
      "Preload mode              \t0\n",
      "Threads                   \t8\n",
      "Compressed                \t0\n",
      "Verbosity                 \t3\n",
      "\n",
      "Query database size: 441461 type: Aminoacid\n",
      "Target database size: 441461 type: Aminoacid\n",
      "[=================================================================] 66.39K 52s 882ms\n",
      "Time for merging to cluster.msa: 0h 0m 0s 280ms\n",
      "Time for processing: 0h 0m 53s 511ms\n",
      "usage: mmseqs createseqfiledb <i:sequenceDB> <i:resultDB> <o:fastaDB> [options]\n",
      "options:                      \n",
      " --min-sequences INT   Minimum number of sequences a cluster may contain [1]\n",
      " --max-sequences INT   Maximum number of sequences a cluster may contain [2147483647]\n",
      " --hh-format BOOL      Format entries to use with hhsuite (for singleton clusters) [0]\n",
      "                     \n",
      " --threads INT         Number of CPU-cores used (all by default) [8]\n",
      " --compressed INT      Write compressed output [0]\n",
      " -v INT                Verbosity level: 0: quiet, 1: +errors, 2: +warnings, 3: +info [3]\n",
      "\n",
      "examples:\n",
      " # Gather all sequences from a cluster DB\n",
      " mmseqs createseqfiledb sequenceDB clusterDB unalignedDB --min-sequences 2\n",
      " # Build MSAs with Clustal-Omega\n",
      " mmseqs apply unalignedDB msaDB -- clustalo -i - -o stdout --threads=1\n",
      " \n",
      "references:\n",
      " - Steinegger M, Soding J: MMseqs2 enables sensitive protein sequence searching for the analysis of massive data sets. Nature Biotechnology, 35(11), 1026-1028 (2017)\n",
      "\n",
      "Show an extended list of options by calling 'mmseqs createseqfiledb -h'.\n",
      "usage: mmseqs result2flat <i:queryDB> <i:targetDB> <i:resultDB> <o:fastaDB> [options]\n",
      "options:                         \n",
      " --use-fasta-header BOOL  Use the id parsed from the fasta header as the index key instead of using incrementing numeric identifiers [0]\n",
      "                        \n",
      " -v INT                   Verbosity level: 0: quiet, 1: +errors, 2: +warnings, 3: +info [3]\n",
      "\n",
      "references:\n",
      " - Steinegger M, Soding J: MMseqs2 enables sensitive protein sequence searching for the analysis of massive data sets. Nature Biotechnology, 35(11), 1026-1028 (2017)\n"
     ]
    },
    {
     "name": "stderr",
     "output_type": "stream",
     "text": [
      "Not enough input paths provided. 3 paths are required.\n",
      "Too many input paths provided. Only 4 are allowed\n"
     ]
    },
    {
     "data": {
      "text/plain": [
       "CompletedProcess(args='mmseqs result2flat /Users/dominiquefastus/master_project/NuStru/nustruEVOL/nustruTREE//MSA/filtered_NEW_ECOLI_FULL_uniprot_02.fasta.db /Users/dominiquefastus/master_project/NuStru/nustruEVOL/nustruTREE//MSA/filtered_NEW_ECOLI_FULL_uniprot_02.fasta.db /Users/dominiquefastus/master_project/NuStru/nustruEVOL/nustruTREE//MSA/cluster /Users/dominiquefastus/master_project/NuStru/nustruEVOL/nustruTREE//MSA/cluster.msa /Users/dominiquefastus/master_project/NuStru/nustruEVOL/nustruTREE//MSA/cluster.msa.db /Users/dominiquefastus/master_project/NuStru/nustruEVOL/nustruTREE//MSA/cluster.msa.fasta', returncode=1)"
      ]
     },
     "execution_count": 22,
     "metadata": {},
     "output_type": "execute_result"
    }
   ],
   "source": [
    "subprocess.run(f\"mmseqs createdb {working_dir}/MSA/filtered_NEW_ECOLI_FULL_uniprot_02.fasta {working_dir}/MSA/filtered_NEW_ECOLI_FULL_uniprot_02.fasta.db\", shell=True)\n",
    "subprocess.run(f\"mmseqs linclust {working_dir}/MSA/filtered_NEW_ECOLI_FULL_uniprot_02.fasta.db {working_dir}/MSA/cluster {working_dir}/MSA/tmp --min-seq-id 0.9 -c 0.8 --cov-mode 1\", shell=True)\n",
    "subprocess.run(f\"mmseqs result2msa {working_dir}/MSA/filtered_NEW_ECOLI_FULL_uniprot_02.fasta.db {working_dir}/MSA/filtered_NEW_ECOLI_FULL_uniprot_02.fasta.db {working_dir}/MSA/cluster {working_dir}/MSA/cluster.msa\", shell=True)\n",
    "\n",
    "subprocess.run(f\"mmseqs createseqfiledb {working_dir}/MSA/cluster.msa {working_dir}/MSA/cluster.msa.db\", shell=True)\n",
    "subprocess.run(f\"mmseqs result2flat {working_dir}/MSA/filtered_NEW_ECOLI_FULL_uniprot_02.fasta.db {working_dir}/MSA/filtered_NEW_ECOLI_FULL_uniprot_02.fasta.db {working_dir}/MSA/cluster {working_dir}/MSA/cluster.msa {working_dir}/MSA/cluster.msa.db {working_dir}/MSA/cluster.msa.fasta\", shell=True)"
   ]
  },
  {
   "cell_type": "code",
   "execution_count": null,
   "metadata": {},
   "outputs": [],
   "source": [
    "subprocess.run(f\"mmseqs createsubdb {working_dir}/MSA/cluster.msa.db {working_dir}/MSA/cluster.msa.fasta {working_dir}/MSA/cluster.msa.fasta.db\", shell=True)\n",
    "subprocess.run(f\"mmseqs result2fasta {working_dir}/MSA/filtered_NEW_ECOLI_FULL_uniprot_02.fasta.db {working_dir}/MSA/filtered_NEW_ECOLI_FULL_uniprot_02.fasta.db {working_dir}/MSA/cluster {working_dir}/MSA/cluster.msa {working_dir}/MSA/cluster.msa.db {working_dir}/MSA/cluster.msa.fasta\", shell=True)"
   ]
  },
  {
   "cell_type": "markdown",
   "metadata": {},
   "source": [
    "# Generate the phylogenetic tree with FastTree from MSA"
   ]
  },
  {
   "cell_type": "code",
   "execution_count": null,
   "metadata": {},
   "outputs": [],
   "source": [
    "subprocess.run(f\"FastTree {working_dir}/MSA/cluster.msa.fasta > {working_dir}/TREE/cluster.msa.fasta.tree\", shell=True)"
   ]
  },
  {
   "cell_type": "markdown",
   "metadata": {},
   "source": [
    "# Visualize the phylogenetic tree"
   ]
  },
  {
   "cell_type": "code",
   "execution_count": null,
   "metadata": {},
   "outputs": [],
   "source": [
    "tree = Tree(f\"{working_dir}/TREE/tree.nwk\")\n",
    "\n",
    "# Define tree style\n",
    "ts = TreeStyle()\n",
    "ts.show_leaf_name = True\n",
    "ts.show_branch_length = True\n",
    "ts.show_branch_support = True\n",
    "\n",
    "# Render the tree\n",
    "tree.show(tree_style=ts)"
   ]
  }
 ],
 "metadata": {
  "kernelspec": {
   "display_name": "CodonTree",
   "language": "python",
   "name": "python3"
  },
  "language_info": {
   "codemirror_mode": {
    "name": "ipython",
    "version": 3
   },
   "file_extension": ".py",
   "mimetype": "text/x-python",
   "name": "python",
   "nbconvert_exporter": "python",
   "pygments_lexer": "ipython3",
   "version": "3.10.0"
  }
 },
 "nbformat": 4,
 "nbformat_minor": 2
}
