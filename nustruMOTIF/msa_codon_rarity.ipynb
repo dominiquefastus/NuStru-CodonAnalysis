{
 "cells": [
  {
   "cell_type": "markdown",
   "metadata": {},
   "source": [
    "# Calculate and map the Codon rarity at each position of a multiple sequence alignment"
   ]
  },
  {
   "cell_type": "markdown",
   "metadata": {},
   "source": [
    "### Function to calculate the codon rarity at each position of a multiple sequence alignment:\n",
    "CR = Codon Rarity, AA = Amino Acid, occ = Occurence, f_c = Frequency of codon, len = Length, aln = Alignment, gaps = Gaps, n_aln = Number of sequences in the alignment\n",
    "$$ CR_{position}= {\\sum \\limits _{AA_{AA}} ^{n_{aln}}(\\sum \\limits _{occ=1} ^{n_{aln}} {AA_{occ}} * f_c) \\over {len_{total}(alignment)} - (gaps)} $$\n",
    "$$ f_c = { \\sum n_c \\over \\sum n_{AA} } * { 1 \\over n_{cAA} } $$"
   ]
  },
  {
   "cell_type": "code",
   "execution_count": 137,
   "metadata": {},
   "outputs": [],
   "source": [
    "from Bio import AlignIO\n",
    "import matplotlib.pyplot as plt\n",
    "import seaborn as sns\n",
    "import numpy as np\n",
    "\n",
    "import pathlib\n",
    "import os "
   ]
  },
  {
   "cell_type": "code",
   "execution_count": 27,
   "metadata": {},
   "outputs": [
    {
     "name": "stdout",
     "output_type": "stream",
     "text": [
      "Alignment with 5 rows and 3 columns\n",
      "aaa A0A7Y8AQ80\n",
      "aaa A0A6I6DLM7\n",
      "aaa A0A212ICI3\n",
      "aaa A0A7Y8BMW5\n",
      "aaa A0A4Y8J7B5\n"
     ]
    }
   ],
   "source": [
    "name_of_protein_alignment = \"test_ddla_protein_aligned.fasta\"\n",
    "name_of_nucleotide_alignment = \"test_ddla_nucleotide_aligned.fasta\"\n",
    "\n",
    "working_dir = \"/Users/dominiquefastus/master_project/NuStru/nustruEVOL/nustruTREE/MSA\"\n",
    "\n",
    "protein_alignment = AlignIO.read(f\"{working_dir}/{name_of_protein_alignment}\", \"fasta\")\n",
    "nucleotide_alignment = AlignIO.read(f\"{working_dir}/{name_of_nucleotide_alignment}\", \"fasta\")\n",
    "\n",
    "print(nucleotide_alignment[:, 570:573])"
   ]
  },
  {
   "cell_type": "code",
   "execution_count": 1,
   "metadata": {},
   "outputs": [
    {
     "name": "stdout",
     "output_type": "stream",
     "text": [
      "{'*': {'TAA': 0.64, 'TAG': 0.07, 'TGA': 0.29}, 'A': {'GCA': 0.21, 'GCC': 0.27, 'GCG': 0.36, 'GCT': 0.16}, 'C': {'TGC': 0.56, 'TGT': 0.44}, 'D': {'GAC': 0.37, 'GAT': 0.63}, 'E': {'GAA': 0.69, 'GAG': 0.31}, 'F': {'TTC': 0.43, 'TTT': 0.57}, 'G': {'GGA': 0.11, 'GGC': 0.41, 'GGG': 0.15, 'GGT': 0.34}, 'H': {'CAC': 0.43, 'CAT': 0.57}, 'I': {'ATA': 0.07, 'ATC': 0.42, 'ATT': 0.51}, 'K': {'AAA': 0.76, 'AAG': 0.24}, 'L': {'CTA': 0.04, 'CTC': 0.1, 'CTG': 0.5, 'CTT': 0.1, 'TTA': 0.13, 'TTG': 0.13}, 'M': {'ATG': 1.0}, 'N': {'AAC': 0.55, 'AAT': 0.45}, 'P': {'CCA': 0.19, 'CCC': 0.12, 'CCG': 0.53, 'CCT': 0.16}, 'Q': {'CAA': 0.35, 'CAG': 0.65}, 'R': {'AGA': 0.04, 'AGG': 0.02, 'CGA': 0.06, 'CGC': 0.4, 'CGG': 0.1, 'CGT': 0.38}, 'S': {'AGC': 0.28, 'AGT': 0.15, 'TCA': 0.12, 'TCC': 0.15, 'TCG': 0.15, 'TCT': 0.15}, 'T': {'ACA': 0.13, 'ACC': 0.44, 'ACG': 0.27, 'ACT': 0.16}, 'V': {'GTA': 0.15, 'GTC': 0.22, 'GTG': 0.37, 'GTT': 0.26}, 'W': {'TGG': 1.0}, 'Y': {'TAC': 0.43, 'TAT': 0.57}}\n"
     ]
    }
   ],
   "source": [
    "import python_codon_tables as pct\n",
    "e_coli_pct = pct.get_codons_table(\"e_coli_316407\")\n",
    "print(e_coli_pct)"
   ]
  },
  {
   "cell_type": "code",
   "execution_count": 20,
   "metadata": {},
   "outputs": [
    {
     "name": "stdout",
     "output_type": "stream",
     "text": [
      "[1. 1. 1. 1. 1.]\n"
     ]
    }
   ],
   "source": [
    "codon_position_start = 0\n",
    "alignment_value_matrix = np.zeros((len(protein_alignment), len(protein_alignment[0])))\n",
    "\n",
    "for position in range(len(protein_alignment[0])):\n",
    "    aa_list= []\n",
    "    codon_list = []\n",
    "    \n",
    "    for i,a in enumerate(protein_alignment[:,position]):\n",
    "        aa_list.append(a)\n",
    "    \n",
    "    codon_position_end = codon_position_start + 3\n",
    "    for i,n in enumerate(nucleotide_alignment[:,codon_position_start:codon_position_end]):\n",
    "        codon_list.append(n.seq[0] + n.seq[1] + n.seq[2])\n",
    "\n",
    "    for i, (aa, codon) in enumerate(zip(aa_list, codon_list)):\n",
    "        if codon == '---':\n",
    "            alignment_value_matrix[i, position] = 0\n",
    "        else:\n",
    "            if aa == '-':\n",
    "                alignment_value_matrix[i, position] = 0\n",
    "            else:\n",
    "                alignment_value_matrix[i, position] = e_coli_pct[aa][codon.upper()]\n",
    "    codon_position_start += 3\n",
    "\n",
    "print(alignment_value_matrix[:,144])\n",
    "\n",
    "residue_mean = []\n",
    "for col_mean in np.mean(alignment_value_matrix, axis=0):\n",
    "    residue_mean.append(col_mean)\n",
    "    \n",
    "seq_name = [seq.id for seq in protein_alignment]\n",
    "\n"
   ]
  },
  {
   "cell_type": "code",
   "execution_count": 138,
   "metadata": {},
   "outputs": [],
   "source": [
    "import numpy as np\n",
    "from Bio import AlignIO\n",
    "from Bio import SeqIO\n",
    "import re\n",
    "name_of_protein_alignment = \"test_ddla_protein_aligned.fasta\"\n",
    "name_of_nucleotide = \"test_ddla_nucleotide.fasta\"\n",
    "\n",
    "working_dir = \"/Users/dominiquefastus/master_project/NuStru/nustruEVOL/nustruTREE/MSA\"\n",
    "\n",
    "protein_alignment = AlignIO.read(f\"{working_dir}/{name_of_protein_alignment}\", \"fasta\")\n",
    "nucleotide_alignment = SeqIO.parse(f\"{working_dir}/{name_of_nucleotide}\", \"fasta\")\n",
    "# nucleotide_alignment = SeqIO.parse(f\"/Users/dominiquefastus/master_project/NuStru/nustruMOTIF/test.fasta\", \"fasta\")\n",
    "# nucleotide_alignment = SeqIO.parse(f\"/Users/dominiquefastus/master_project/NuStru/nustruDB/test_ddla_nucleotide.fasta\", \"fasta\")\n",
    "\n",
    "def fasta_to_array(fasta, align_to=None, codon=False):\n",
    "    all_seqs = []\n",
    "    all_ids = []\n",
    "    \n",
    "    if codon:\n",
    "        for (ind,record) in enumerate(fasta):\n",
    "            all_seqs.append(list(str(record.seq)))\n",
    "            all_seqs[ind] = [''.join(map(str, all_seqs[ind][i:i+3])) for i in range(0, len(all_seqs[ind]), 3)]\n",
    "            \n",
    "    else:           \n",
    "        for record in fasta:\n",
    "            all_seqs.append(list(str(record.seq)))\n",
    "            all_ids.append(record.id)\n",
    "        \n",
    "        all_seqs = np.array(all_seqs)\n",
    "\n",
    "    if align_to is not None:\n",
    "        gap_indeces = np.where(align_to == '-')\n",
    "        \n",
    "        for gap_index in zip(gap_indeces[0], gap_indeces[1]):\n",
    "            all_seqs[gap_index[0]].insert(gap_index[1], '---')\n",
    "        \n",
    "        all_seqs = np.array(all_seqs)\n",
    "        # deleting stop codons as no protein assigned to them\n",
    "        all_seqs = np.delete(all_seqs, -1, axis=1)\n",
    "            \n",
    "    \n",
    "    \n",
    "    all_ids = np.array(all_ids).reshape(len(all_ids), 1)\n",
    "    # all_seqs = np.append(all_seqs, all_ids, axis=1)\n",
    "    \n",
    "    return all_seqs\n",
    "\n",
    "\n",
    "all_seqs_protein = fasta_to_array(protein_alignment, codon=False)\n",
    "all_seqs_nt = fasta_to_array(fasta=nucleotide_alignment, align_to=all_seqs_protein, codon=True)\n",
    "\n",
    "\n"
   ]
  },
  {
   "cell_type": "markdown",
   "metadata": {},
   "source": [
    "$$ f_c = { \\sum n_c \\over \\sum n_{AA} } * { 1 \\over n_{cAA} } $$"
   ]
  },
  {
   "cell_type": "code",
   "execution_count": 139,
   "metadata": {},
   "outputs": [],
   "source": [
    "def cub_msa_table(prot_seq_arr=None, cod_seq_arr=None):\n",
    "    cub_table = {\n",
    "    # '*': {'TAA': None, 'TAG': None, 'TGA': None}, ignoring stop codons\n",
    "    'A': {'GCA': None, 'GCC': None, 'GCG': None, 'GCT': None},\n",
    "    'C': {'TGC': None, 'TGT': None},\n",
    "    'D': {'GAC': None, 'GAT': None},\n",
    "    'E': {'GAA': None, 'GAG': None},\n",
    "    'F': {'TTC': None, 'TTT': None},\n",
    "    'G': {'GGA': None, 'GGC': None, 'GGG': None, 'GGT': None},\n",
    "    'H': {'CAC': None, 'CAT': None},\n",
    "    'I': {'ATA': None, 'ATC': None, 'ATT': None},\n",
    "    'K': {'AAA': None, 'AAG': None},\n",
    "    'L': {'CTA': None, 'CTC': None, 'CTG': None, 'CTT': None, 'TTA': None, 'TTG': None},\n",
    "    'M': {'ATG': None},\n",
    "    'N': {'AAC': None, 'AAT': None},\n",
    "    'P': {'CCA': None, 'CCC': None, 'CCG': None, 'CCT': None},\n",
    "    'Q': {'CAA': None, 'CAG': None},\n",
    "    'R': {'AGA': None, 'AGG': None, 'CGA': None, 'CGC': None, 'CGG': None, 'CGT': None},\n",
    "    'S': {'AGC': None, 'AGT': None, 'TCA': None, 'TCC': None, 'TCG': None, 'TCT': None},\n",
    "    'T': {'ACA': None, 'ACC': None, 'ACG': None, 'ACT': None},\n",
    "    'V': {'GTA': None, 'GTC': None, 'GTG': None, 'GTT': None},\n",
    "    'W': {'TGG': None},\n",
    "    'Y': {'TAC': None, 'TAT': None}}\n",
    "    \n",
    "    for aa in cub_table.keys():\n",
    "           \n",
    "        # total number of the amino acid or total number of codon for the amino acid\n",
    "        n_AA = np.count_nonzero(prot_seq_arr == aa)\n",
    "                \n",
    "        # total number of codons for each amino acid\n",
    "        nc_AA = len(cub_table[aa].keys())\n",
    "        \n",
    "        for codon in cub_table[aa].keys():\n",
    "            \n",
    "            # number of a codon in the alignment for each amino acid\n",
    "            nc = np.count_nonzero(cod_seq_arr == codon)\n",
    "            \n",
    "            # caluclate the frequency of codons in the alignment for each amino acid\n",
    "            fc =(nc / n_AA) * 1/nc_AA\n",
    "            \n",
    "            \n",
    "            # round the frequency to 5 decimal places and assign it to the codon usage bias table\n",
    "            cub_table[aa][codon] = round(fc,5)\n",
    "        \n",
    "    return cub_table\n",
    "        \n",
    "cub_msa_table_ddla = cub_msa_table(prot_seq_arr=all_seqs_protein, cod_seq_arr=all_seqs_nt)\n",
    "    "
   ]
  },
  {
   "cell_type": "markdown",
   "metadata": {},
   "source": [
    "$$ CR_{position}= {\\sum \\limits _{AA_{AA}} ^{n_{aln}}(\\sum \\limits _{occ=1} ^{n_{aln}} {AA_{occ}} * f_c) \\over {len_{total}(alignment)} - (gaps)} $$"
   ]
  },
  {
   "cell_type": "code",
   "execution_count": 140,
   "metadata": {},
   "outputs": [
    {
     "name": "stdout",
     "output_type": "stream",
     "text": [
      "[0.2, 0.054700000000000006, 0.2, 0.0040219999999999995, 0.045454, 0.054166000000000006, 1.0, 0.077904, 0.262498, 0.06639400000000001, 0.02246, 0.033622, 0.06409400000000001, 0.12299, 0.076726, 0.23636200000000002, 0.06409400000000001, 0.06409400000000001, 0.11086399999999999, 0.01814, 0.086758, 0.25470000000000004, 0.294118, 0.2641, 0.11983000000000002, 0.025841999999999997, 0.060796, 0.17308, 0.03019, 0.086486, 0.177502, 0.184618, 0.186494, 0.064942, 0.26409800000000005, 0.07081, 0.11376, 0.251924, 0.153596, 0.10296200000000003, 0.08631600000000002, 0.254546, 0.2359, 0.125914, 0.151726, 0.10276, 0.096898, 0.109734, 0.17931, 0.251924, 0.262498, 0.221082, 0.086914, 0.218644, 1.0, 0.294118, 0.062347999999999994, 0.300944, 0.251924, 0.09151400000000001, 0.08663799999999999, 0.269092, 0.241444, 0.10276, 0.10565200000000001, 0.271794, 0.157594, 0.267948, 0.315382, 0.15909, 0.102162, 0.10206999999999997, 0.20747, 0.098034, 0.03817, 0.24499200000000002, 0.13945400000000002, 0.02343, 0.262394, 0.09709999999999999, 0.191636, 0.08623, 0.103786, 0.13973200000000002, 0.10919800000000002, 0.10984800000000002, 0.11610999999999998, 0.23448200000000002, 0.276966, 0.11633, 0.286362, 0.26538399999999995, 0.06639400000000001, 0.150574, 0.23760600000000004, 0.12113, 0.0636, 0.156978, 0.217964, 0.20047399999999999, 0.097262, 0.10276, 0.138928, 0.267756, 0.13994199999999996, 0.24807600000000002, 0.097702, 0.17931, 0.27273, 0.10908999999999999, 0.20747, 0.07643799999999999, 0.294118, 0.10469999999999999, 0.10984799999999999, 0.055268, 0.10469999999999999, 0.2735, 0.255772, 0.10470000000000002, 0.178262, 0.10276, 0.23461600000000002, 0.086914, 0.41969200000000007, 0.074784, 0.085264, 0.8261499999999999, 0.06479, 0.287816, 0.06891, 0.10908999999999999, 0.25454600000000005, 0.06551799999999999, 0.11610999999999998, 0.02343, 0.24807600000000002, 0.08764600000000002, 0.052503999999999995, 0.07047, 0.02681, 0.10459800000000001, 0.109694, 0.269566, 1.0, 0.251924, 0.262498, 0.25962, 0.161782, 0.094312, 0.262498, 0.058948, 0.10276, 0.088772, 0.072632, 0.24422800000000003, 0.10541, 0.051342, 0.053681999999999994, 0.20439800000000002, 0.140806, 0.059534, 0.087878, 0.23636200000000002, 0.171838, 0.134848, 0.09160599999999999, 0.174066, 0.085264, 0.104328, 0.23542999999999997, 0.102434, 0.170296, 0.124416, 0.124856, 0.06706000000000001, 0.23636200000000002, 0.15593200000000002, 0.200976, 0.08096400000000001, 0.20085000000000003, 0.14468799999999998, 0.194166, 0.094158, 0.098324, 0.074784, 0.13712, 0.06891, 0.254546, 0.10833400000000001, 0.22917, 0.15909, 0.102162, 0.35897, 0.32692, 0.06813599999999999, 0.02343, 0.022462, 0.086782, 0.11611, 0.10891000000000002, 0.06884, 0.24583400000000002, 0.087358, 0.1982, 0.159354, 0.239882, 0.12881599999999999, 0.19831800000000002, 0.254546, 0.212204, 0.14703800000000003, 0.071082, 0.056564, 0.15706800000000004, 0.10276, 0.08811, 0.15256399999999998, 0.14021, 0.254546, 0.24037999999999998, 0.2547, 0.23750200000000002, 0.09799, 0.09996800000000002, 0.11867800000000002, 0.25470000000000004, 0.11811400000000001, 0.055808, 0.13994199999999996, 0.15441000000000002, 0.10469999999999999, 0.057896, 0.2359, 0.20747, 0.26410000000000006, 0.269566, 0.085134, 0.108622, 0.06925600000000001, 0.10973399999999997, 0.228206, 0.25747600000000004, 0.29881199999999997, 0.148354, 0.24398599999999998, 0.10541, 0.047584, 0.09232800000000001, 0.23043399999999997, 0.09328999999999998, 0.2359, 0.158334, 0.11982999999999999, 0.11955400000000001, 0.197356, 0.126866, 0.15210200000000001, 0.254546, 0.23235199999999998, 0.024825999999999997, 0.33824, 0.25962, 0.07994000000000001, 0.22917, 0.33824, 0.17931, 0.255772, 0.201278, 0.302562, 0.10203199999999998, 0.08757000000000001, 0.21318800000000002, 0.10862200000000002, 0.114232, 0.10862200000000002, 0.13712, 0.07081, 0.07739399999999999, 0.180896, 0.093974, 0.175624, 0.201752, 0.13839200000000002, 0.17426400000000003, 0.25854800000000006, 0.134436, 0.20747, 0.085264, 0.12345000000000002, 0.171902, 0.10459800000000001, 0.154598, 0.253208, 0.103786, 0.254546, 0.31623599999999996, 0.102508, 0.074784, 0.11610999999999998, 0.23043399999999997, 0.089284, 0.07416199999999999, 0.447668, 0.10135000000000001, 0.042108, 0.09799, 0.24807600000000002, 0.097702, 0.263638, 0.030224, 0.10606, 0.11388000000000001, 0.20591600000000004, 0.165102, 0.22662400000000002, 0.086494, 0.11395600000000002, 0.23563, 0.228206, 0.2453, 0.203734, 0.315382, 0.028918, 0.074784, 0.038636000000000004, 0.11611, 0.254546, 0.15909, 0.15999999999999998, 0.23563, 0.058212, 1.0, 0.302944, 0.09318000000000001, 0.262498, 0.06614600000000001, 1.0, 0.32692, 0.10297399999999998, 0.084218, 0.086914, 0.6048359999999999, 0.074384, 0.267648, 0.116676, 0.232052, 0.074784, 0.11206999999999998, 0.06931200000000001, 0.086316, 0.074784, 0.17931, 0.25470000000000004, 0.10276, 0.085674, 0.147592, 0.2453, 0.082238, 0.17647, 0.119842, 0.059888, 0.145264, 0.17048400000000002, 0.06215, 0.06891, 0.273716, 0.21683, 0.028744, 0.236654, 0.071794, 0.014094]\n"
     ]
    }
   ],
   "source": [
    "import pandas as pd\n",
    "\n",
    "def map_rarity(protein_alignment, nustrudb, cu_table):\n",
    "    codon_position_start = 0\n",
    "    alignment_value_matrix = np.zeros((len(protein_alignment), len(protein_alignment[0])))\n",
    "    seq_name = [seq.id for seq in protein_alignment]\n",
    "    seq_pos = [i for i in range(len(protein_alignment[0]))]\n",
    "\n",
    "    sart_count = [0 for i in range(len(seq_name))]\n",
    "    pos_count_dict = {seq_name[i]: 0 for i in range(len(seq_name))}\n",
    "    for position in range(len(protein_alignment[0])):\n",
    "\n",
    "        for i, (aa, seq) in enumerate(zip(protein_alignment[:,position],seq_name)):\n",
    "            if aa == '-':\n",
    "                alignment_value_matrix[i, position] = 0\n",
    "                pos_count_dict[seq] += 1\n",
    "            else:\n",
    "                prot_position = pos_count_dict[seq]\n",
    "                position_adj = position - prot_position\n",
    "                \n",
    "                sequence = nustrudb[nustrudb[\"primary_id\"] == seq][\"nucleotide_sequence\"].values[0]\n",
    "                alignment_value_matrix[i, position] = cu_table[aa][sequence[position_adj*3:position_adj*3+3].upper()]\n",
    "\n",
    "    residue_mean = []\n",
    "    for col_mean in np.sum(alignment_value_matrix, axis=0):\n",
    "        residue_mean.append(col_mean / len(seq_name))\n",
    "    \n",
    "    return alignment_value_matrix, seq_name, seq_pos, residue_mean\n",
    "\n",
    "nustrudb = pd.read_csv(\"/Users/dominiquefastus/master_project/NuStru/nustruDB/DDLA_uniprot_sec_struct_04.csv\")\n",
    "alignment_value_matrix, seq_name, seq_pos, residue_mean = map_rarity(protein_alignment, nustrudb, cu_table=cub_msa_table_ddla)\n",
    "print(residue_mean)"
   ]
  },
  {
   "cell_type": "code",
   "execution_count": null,
   "metadata": {},
   "outputs": [],
   "source": []
  }
 ],
 "metadata": {
  "kernelspec": {
   "display_name": "CodonTree",
   "language": "python",
   "name": "python3"
  },
  "language_info": {
   "codemirror_mode": {
    "name": "ipython",
    "version": 3
   },
   "file_extension": ".py",
   "mimetype": "text/x-python",
   "name": "python",
   "nbconvert_exporter": "python",
   "pygments_lexer": "ipython3",
   "version": "3.12.2"
  }
 },
 "nbformat": 4,
 "nbformat_minor": 2
}
