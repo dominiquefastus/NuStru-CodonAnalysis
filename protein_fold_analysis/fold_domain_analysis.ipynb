{
 "cells": [
  {
   "cell_type": "code",
   "execution_count": null,
   "metadata": {},
   "outputs": [],
   "source": [
    "import pandas as pd\n",
    "import pickle\n",
    "import ast\n",
    "\n",
    "import matplotlib.pyplot as plt\n",
    "import seaborn as sns\n",
    "\n",
    "import scipy.stats as stats\n",
    "\n",
    "from CAI import RSCU"
   ]
  },
  {
   "cell_type": "markdown",
   "metadata": {},
   "source": [
    "# Domain and Fold class analysis"
   ]
  },
  {
   "cell_type": "markdown",
   "metadata": {},
   "source": [
    "##### The domain analysis is baseed on the relative synonymous codon usage (RSCU) or codon rarity score (CRS) and needs the domain annotation for the provided data. The CRS can be obtained from the previous analysis of the msa of protein families. The RSCU is calculated in this notobook based on each sequence. When analysing the domains and fold classes on the organism data, so not a protein familiy, the CRS can't be calculated and thus only the RSCU should be used."
   ]
  },
  {
   "cell_type": "markdown",
   "metadata": {},
   "source": [
    "### Set data to analyse"
   ]
  },
  {
   "cell_type": "code",
   "execution_count": null,
   "metadata": {},
   "outputs": [],
   "source": [
    "savefig = False # define if figures should be saved\n",
    "\n",
    "# load the nustrudb and convert the secondary structure to a list of tuples\n",
    "nustrudb = pd.read_csv('/Example/examples_family/example_fam2_domain.csv', converters={'secondary_structure': ast.literal_eval})\n",
    "nustrudb['secondary_structure'] = nustrudb['secondary_structure'].apply(lambda x: list(x.items())) \n",
    "nustrudb['secondary_structure'] = nustrudb['secondary_structure'].apply(lambda x: \"\".join(dict(x).values()))\n",
    "\n",
    "# get the codon rarity score (CRS) for a protein family \n",
    "c_rarity = pickle.load(open('/Example/examples_family/example_fam2_CRS.pkl', 'rb'))\n",
    "output_path = \"/Example/examples_family/\" # define output path"
   ]
  },
  {
   "cell_type": "markdown",
   "metadata": {},
   "source": [
    "### Define functions and codon table"
   ]
  },
  {
   "cell_type": "code",
   "execution_count": null,
   "metadata": {},
   "outputs": [],
   "source": [
    "# define the standard genetic code with stop codons\n",
    "codon_table = {\n",
    "    'TTT': 'F', 'TTC': 'F', 'TTA': 'L', 'TTG': 'L',\n",
    "    'TCT': 'S', 'TCC': 'S', 'TCA': 'S', 'TCG': 'S',\n",
    "    'TAT': 'Y', 'TAC': 'Y', 'TAA': '*', 'TAG': '*',\n",
    "    'TGT': 'C', 'TGC': 'C', 'TGA': '*', 'TGG': 'W',\n",
    "    'CTT': 'L', 'CTC': 'L', 'CTA': 'L', 'CTG': 'L',\n",
    "    'CCT': 'P', 'CCC': 'P', 'CCA': 'P', 'CCG': 'P',\n",
    "    'CAT': 'H', 'CAC': 'H', 'CAA': 'Q', 'CAG': 'Q',\n",
    "    'CGT': 'R', 'CGC': 'R', 'CGA': 'R', 'CGG': 'R',\n",
    "    'ATT': 'I', 'ATC': 'I', 'ATA': 'I', 'ATG': 'M',\n",
    "    'ACT': 'T', 'ACC': 'T', 'ACA': 'T', 'ACG': 'T',\n",
    "    'AAT': 'N', 'AAC': 'N', 'AAA': 'K', 'AAG': 'K',\n",
    "    'AGT': 'S', 'AGC': 'S', 'AGA': 'R', 'AGG': 'R',\n",
    "    'GTT': 'V', 'GTC': 'V', 'GTA': 'V', 'GTG': 'V',\n",
    "    'GCT': 'A', 'GCC': 'A', 'GCA': 'A', 'GCG': 'A',\n",
    "    'GAT': 'D', 'GAC': 'D', 'GAA': 'E', 'GAG': 'E',\n",
    "    'GGT': 'G', 'GGC': 'G', 'GGA': 'G', 'GGG': 'G'\n",
    "}\n",
    "\n",
    "def split_into_codons(sequence):\n",
    "    \"\"\"Split the sequence into codons\"\"\"\n",
    "    # codons are a subset of 3 nucleotide, so we check again if the sequence is divisible by 3\n",
    "    # due to previous filtering, this should be always the case\n",
    "    return [sequence[i:i+3] for i in range(0, len(sequence), 3) if len(sequence[i:i+3]) == 3]\n",
    "\n",
    "def extract_secondary_structure(structure_string):\n",
    "    \"\"\"Extract secondary structure elements from structure string\"\"\"\n",
    "    # convert string to list, a function is needed as it is applied to each row individually\n",
    "    return list(structure_string) \n",
    "\n",
    "def map_rscu_to_codons(seq, rscu_values):\n",
    "    \"\"\"Map RSCU values to codons in each sequence\"\"\"\n",
    "    # get a list of the codons of the nucleotide sequence (same order)\n",
    "    codons = split_into_codons(seq)\n",
    "\n",
    "    # return the calculated rscu values of each codon in the sequence\n",
    "    mapped_rscu_value = [rscu_values.get(codon, 'nan') for codon in seq]\n",
    "\n",
    "    # most RSCU calculations ignore the stop codons and since it is of no interest for the analysis, it is deleted\n",
    "    if mapped_rscu_value[-1] == 'nan':\n",
    "        mapped_rscu_value.pop()\n",
    "\n",
    "    return mapped_rscu_value\n",
    "\n",
    "def rscu_method_calculation(seq_given=None, data=None, column=None):\n",
    "    \"\"\"Calculates the RSCU values based on the CAI package\"\"\"\n",
    "    # setup a list of sequences to calculate the codons from\n",
    "    if isinstance(data, pd.DataFrame):\n",
    "        seq = data[column].values.tolist()\n",
    "    else:\n",
    "        seq = [str(seq_given)]\n",
    "\n",
    "    # there are multiple ways to calculate the rscu for codons based on literature\n",
    "    # while rscu values for one sequence can indicate sequence (protein specific codon usage)\n",
    "    # drawing the rscu from a set can give rise to species or overall codon usage\n",
    "    if len(seq) == 1:\n",
    "        # calculate the rscu for codons based on the sequence\n",
    "        rscu_values = RSCU(seq)\n",
    "\n",
    "        # create a list of the rscu based on the codon order in the sequence\n",
    "        rscu_results = map_rscu_to_codons(seq_given, rscu_values)\n",
    "        \n",
    "        \n",
    "    elif len(seq) >= 1:\n",
    "        # calculate the rscu for codons based on multiple sequences\n",
    "        rscu_values = RSCU(seq)\n",
    "        rscu_results = rscu_values\n",
    "\n",
    "    else:\n",
    "        print(\"Can't calculate rscu as no sequences provivded!\")\n",
    "\n",
    "    return rscu_results\n",
    "\n",
    "def classify_fold(alpha, beta):\n",
    "    \"\"\"Classify the fold class based on the alpha and beta content\"\"\"\n",
    "    # since the actual fold class could not be mapped to the data, \n",
    "    # the classification is based on the alpha and beta content (ratio)\n",
    "    if alpha > 0 and beta == 0: \n",
    "        return 'All Alpha'\n",
    "    elif beta > 0 and alpha == 0: \n",
    "        return 'All Beta'\n",
    "    else:\n",
    "        return 'Alpha/Beta'"
   ]
  },
  {
   "cell_type": "markdown",
   "metadata": {},
   "source": [
    "## Assign data to domains from the initial dataset"
   ]
  },
  {
   "cell_type": "code",
   "execution_count": null,
   "metadata": {},
   "outputs": [],
   "source": [
    "# store the data from prev\n",
    "domain_df = pd.DataFrame(columns=['primary_id', 'domain', 'alpha', 'beta', 'coils' 'RSCU', 'freq', 'cath_fclass'])\n",
    "\n",
    "\n",
    "for _, row in nustrudb.iterrows():\n",
    "    # calculate RSCU values\n",
    "    rscu_values = rscu_method_calculation(data=nustrudb, column='nucleotide_sequence')\n",
    "\n",
    "    # create a new dataframe of the primary_id, domain_name, nucleotide_sequence as well as secondary structure for the domain range\n",
    "    # and (rscu, frequencies) for each codon in the sequence\n",
    "    codons = split_into_codons(row['nucleotide_sequence'])\n",
    "    secstru = extract_secondary_structure(row['secondary_structure'])\n",
    "    \n",
    "    # loop over the domains and extract the nucleotide sequence and secondary structure\n",
    "    for domain in eval(row['domains']):\n",
    "        # get the sequence range of the domain\n",
    "        domain_start = int(domain[0])\n",
    "        domain_end = int(domain[1])\n",
    "        domain_name = domain[2]\n",
    "        \n",
    "        # extract the domain nucleotide sequence and secondary structure\n",
    "        domain_nucleotide_sequence = codons[domain_start:domain_end]\n",
    "        domain_secstru_sequence = secstru[domain_start:domain_end]\n",
    "        \n",
    "        # count the alpha and beta content of the domain (count the occurences of the elements)\n",
    "        alpha = domain_secstru_sequence.count('H') + domain_secstru_sequence.count('G') + domain_secstru_sequence.count('I')\n",
    "        beta = domain_secstru_sequence.count('E') + domain_secstru_sequence.count('B')\n",
    "        \n",
    "        # calculate the RSCU and CRS values for the domain\n",
    "        rscu = sum(map_rscu_to_codons(domain_nucleotide_sequence, rscu_values)) / len(domain_nucleotide_sequence)\n",
    "        crs = sum(map_rscu_to_codons(domain_nucleotide_sequence, c_rarity)) / len(domain_nucleotide_sequence)\n",
    "\n",
    "        # store the domain data in a new dataframe\n",
    "        domain_data = pd.DataFrame.from_dict([{'primary_id':row['primary_id'], 'domain': domain_name, 'alpha': alpha, 'beta': beta, 'RSCU': rscu, 'CRS': crs}])\n",
    "        domain_df = pd.concat([domain_df, domain_data], ignore_index=True)\n",
    "\n",
    "# classify the fold class based on the alpha and beta content/ ratio\n",
    "domain_df['fold_class'] = domain_df.apply(lambda row: classify_fold(row['alpha'], row['beta']), axis=1)"
   ]
  },
  {
   "cell_type": "markdown",
   "metadata": {},
   "source": [
    "## Analyse the top 20 most common domains"
   ]
  },
  {
   "cell_type": "code",
   "execution_count": null,
   "metadata": {},
   "outputs": [],
   "source": [
    "# extracting the top 20 most common domains from the dataset\n",
    "top_domains = domain_df['domain'].value_counts().index[:20]\n",
    "top_data = domain_df[domain_df['domain'].isin(top_domains)]"
   ]
  },
  {
   "cell_type": "markdown",
   "metadata": {},
   "source": [
    "### Plot the fold class distribution (Alpha helix / Beta sheet ratio)"
   ]
  },
  {
   "cell_type": "code",
   "execution_count": null,
   "metadata": {},
   "outputs": [],
   "source": [
    "codon_metric = 'CRS' # define the metric to be used for the analysis"
   ]
  },
  {
   "cell_type": "code",
   "execution_count": null,
   "metadata": {},
   "outputs": [],
   "source": [
    "plt.figure(figsize=(12, 8))\n",
    "\n",
    "markers = ('o', 's', '^', 'v', '<', '>', 'D', 'p', 'P', '*', 'X')\n",
    "num_markers = len(markers)\n",
    "\n",
    "# normalize the RSCU values for the color map\n",
    "norm = plt.Normalize(top_data[codon_metric].min(), top_data[codon_metric].max())\n",
    "cmap = plt.cm.viridis\n",
    "\n",
    "for i, domain in enumerate(top_domains):\n",
    "    domain_data = top_data[top_data['domain'] == domain]\n",
    "    scatter = plt.scatter(x=domain_data['alpha'], y=domain_data['beta'], c=domain_data[codon_metric], cmap=cmap,\n",
    "                          norm=norm, label=domain, marker=markers[i % num_markers])\n",
    "\n",
    "plt.colorbar(scatter, label='RSCU')\n",
    "\n",
    "plt.title('Scatter Plot of RSCU vs. Frequency by Domain')\n",
    "plt.xlabel('Number of Alpha Helices')\n",
    "plt.ylabel('Number of Beta Sheets')\n",
    "plt.legend(loc='upper right', title='Domains')\n",
    "# plt.legend(bbox_to_anchor=(0, -0.1), loc='upper left', ncol=2)\n",
    "\n",
    "if savefig:\n",
    "    plt.savefig(f'{output_path}/helix_sheet_ratio_plot.png', dpi=600)"
   ]
  },
  {
   "cell_type": "markdown",
   "metadata": {},
   "source": [
    "### Plot the domain distribution "
   ]
  },
  {
   "cell_type": "code",
   "execution_count": null,
   "metadata": {},
   "outputs": [],
   "source": [
    "codon_metric = 'RSCU' # define the metric to be used for the analysis"
   ]
  },
  {
   "cell_type": "code",
   "execution_count": null,
   "metadata": {},
   "outputs": [],
   "source": [
    "plt.figure(figsize=(10, 6))\n",
    "\n",
    "sns.set_theme(style=\"ticks\")\n",
    "sns.boxplot(data=top_data, x=codon_metric, y='domain', hue='domain')\n",
    "sns.stripplot(data=top_data, x=codon_metric, y='domain', hue='domain', palette='dark:.4', alpha=0.7)\n",
    "sns.despine(trim=True, left=True)\n",
    "\n",
    "plt.tick_params(axis='x', which='both', bottom=False, top=False, labelbottom=True, rotation=90)\n",
    "plt.ylabel(\"Domains\")\n",
    "\n",
    "if savefig:\n",
    "    plt.savefig(f'{output_path}/domain_codon_usage.png', dpi=600, bbox_inches='tight')"
   ]
  },
  {
   "cell_type": "markdown",
   "metadata": {},
   "source": [
    "### Save boxplot data"
   ]
  },
  {
   "cell_type": "code",
   "execution_count": null,
   "metadata": {},
   "outputs": [],
   "source": [
    "# save the boxplot data\n",
    "top_data.groupby('domain').describe().to_csv(f'{output_path}/domains_boxplot_statistics.csv')"
   ]
  },
  {
   "cell_type": "markdown",
   "metadata": {},
   "source": [
    "## Analyse RSCU or CRS correlation with domain and fold class"
   ]
  },
  {
   "cell_type": "markdown",
   "metadata": {},
   "source": [
    "### Perfom a one-way ANOVA test to determine the significance of the correlation between RSCU and CRS with domain and fold class"
   ]
  },
  {
   "cell_type": "code",
   "execution_count": null,
   "metadata": {},
   "outputs": [],
   "source": [
    "# group the fold class data by the fold class and perform an ANOVA test\n",
    "fold_class_groups = [group[\"CRS\"].values for name, group in domain_df.groupby(\"fold_class\")]\n",
    "f_stat_fold_class, p_value_fold_class = stats.f_oneway(*fold_class_groups)\n",
    "\n",
    "print(\"ANOVA results for Fold Class:\")\n",
    "print(f\"F-statistic: {f_stat_fold_class}, p-value: {p_value_fold_class}\")\n",
    "\n",
    "# group the domain data by the domain and perform an ANOVA test\n",
    "domain_groups = [group[\"CRS\"].values for name, group in domain_df.groupby(\"domain\")]\n",
    "f_stat_domain, p_value_domain = stats.f_oneway(*domain_groups)\n",
    "\n",
    "print(\"\\nANOVA results for Domain:\")\n",
    "print(f\"F-statistic: {f_stat_domain}, p-value: {p_value_domain}\")"
   ]
  }
 ],
 "metadata": {
  "kernelspec": {
   "display_name": "Python 3 (ipykernel)",
   "language": "python",
   "name": "python3"
  },
  "language_info": {
   "codemirror_mode": {
    "name": "ipython",
    "version": 3
   },
   "file_extension": ".py",
   "mimetype": "text/x-python",
   "name": "python",
   "nbconvert_exporter": "python",
   "pygments_lexer": "ipython3",
   "version": "3.12.2"
  }
 },
 "nbformat": 4,
 "nbformat_minor": 4
}
