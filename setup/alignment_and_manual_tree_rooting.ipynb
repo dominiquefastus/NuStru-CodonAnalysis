{
 "cells": [
  {
   "cell_type": "markdown",
   "metadata": {},
   "source": [
    "# Import python packages for pipeline"
   ]
  },
  {
   "cell_type": "code",
   "execution_count": null,
   "metadata": {},
   "outputs": [],
   "source": [
    "import subprocess\n",
    "import platform\n",
    "import shutil\n",
    "import uuid\n",
    "\n",
    "import pandas as pd\n",
    "\n",
    "from Bio import SeqIO\n",
    "from ete3 import Tree\n",
    "from ete3 import TreeStyle, NodeStyle\n"
   ]
  },
  {
   "cell_type": "markdown",
   "metadata": {},
   "source": [
    "# Install external softwares"
   ]
  },
  {
   "cell_type": "code",
   "execution_count": null,
   "metadata": {},
   "outputs": [],
   "source": [
    "try:\n",
    "    if shutil.which(\"mmseqs\") is None:\n",
    "        subprocess.run(\"conda install -c conda-forge -c bioconda mmseqs2\", shell=True)\n",
    "        print(\"mmseqs2 not installed\")\n",
    "    elif shutil.which(\"mmseqs\") is not None:\n",
    "        print(\"mmseqs2 already installed: \", shutil.which(\"mmsa\"))\n",
    "except:\n",
    "    print(\"Was not able to install mmseqs2 automatically. Please install manually\")\n",
    "    \n",
    "try:\n",
    "    if \"macOS\" in platform.platform() and shutil.which(\"mafft\") is None:\n",
    "        subprocess.run(\"brew install mafft\", shell=True)\n",
    "        print(\"mafft not installed\")\n",
    "    elif \"Linux\" in platform.platform() and shutil.which(\"mafft\") is None:\n",
    "        print(\"mafft not installed: \", shutil.which(\"mafft\"))\n",
    "    else:\n",
    "        print(\"mafft already installed: \", shutil.which(\"mafft\"))\n",
    "except:\n",
    "    print(\"Was not able to install mafft automatically. Please install manually\")\n",
    "\n",
    "try:\n",
    "    if \"macOS\" in platform.platform() and shutil.which(\"FastTree\") is None:\n",
    "        subprocess.run(\"brew install fasttree\", shell=True)\n",
    "        print(\"FastTree not installed\")\n",
    "    elif \"Linux\" in platform.platform() and shutil.which(\"FastTree\") is None:\n",
    "        subprocess.run(\"sudo apt install fasttree\", shell=True)\n",
    "        print(\"FastTree not installed\")\n",
    "    else:\n",
    "        print(\"FastTree already installed: \", shutil.which(\"FastTree\"))\n",
    "except:\n",
    "    print(\"Was not able to install FastTree automatically. Please install manually\")\n",
    "\n",
    "try:\n",
    "    if \"macOS\" in platform.platform() and shutil.which(\"paml\") is None:\n",
    "        subprocess.run(\"brew install paml\", shell=True)\n",
    "        print(\"FastTree not installed\")\n",
    "    elif \"Linux\" in platform.platform() and shutil.which(\"paml\") is None:\n",
    "        subprocess.run(\"sudo apt install paml\", shell=True)\n",
    "        print(\"FastTree not installed\")\n",
    "    else:\n",
    "        print(\"FastTree already installed: \", shutil.which(\"mmsa\"))\n",
    "except:\n",
    "    print(\"Was not able to install PAML automatically. Please install manually\")"
   ]
  },
  {
   "cell_type": "markdown",
   "metadata": {},
   "source": [
    "# Setup working directory and assign fasta input file"
   ]
  },
  {
   "cell_type": "code",
   "execution_count": null,
   "metadata": {},
   "outputs": [],
   "source": [
    "import os\n",
    "import shutil\n",
    "import time\n",
    "\n",
    "# path to fasta file and nustru dataframe\n",
    "# plese define the fasta file and dataframe from which you want to create the alignment and tree\n",
    "fasta_file = None\n",
    "df = pd.read_csv(None)\n",
    "\n",
    "# for the created files, create a unique job_id\n",
    "job_id = uuid.uuid4()\n",
    "# get the current working directory\n",
    "cwd = os.getcwd()\n",
    "\n",
    "# create directories for the new job\n",
    "job_path = os.path.join(cwd, 'nustruTREE', str(job_id))\n",
    "msa_path = os.path.join(job_path, 'MSA')\n",
    "tree_path = os.path.join(job_path, 'TREE')\n",
    "\n",
    "try:\n",
    "    os.makedirs(msa_path, exist_ok=True)\n",
    "    os.makedirs(tree_path, exist_ok=True)\n",
    "\n",
    "    shutil.copy(fasta_file, msa_path)\n",
    "    print(\"File copied successfully!\")\n",
    "    \n",
    "except FileNotFoundError as fnf_error:\n",
    "    print(f\"Error: {fnf_error}\")\n",
    "    print(\"Please check the path to your fasta file and ensure it exists.\")\n",
    "\n",
    "except PermissionError as perm_error:\n",
    "    print(f\"Permission Error: {perm_error}\")\n",
    "    print(\"Please check your permissions for the directories.\")\n",
    "\n",
    "except Exception as e:\n",
    "    print(f\"An unexpected error occurred: {e}\")\n",
    "\n",
    "# update global variables\n",
    "global working_dir \n",
    "global working_name\n",
    "\n",
    "# set the working directory and name\n",
    "working_dir = job_path\n",
    "working_name = os.path.basename(fasta_file).split(\".\")[0]"
   ]
  },
  {
   "cell_type": "markdown",
   "metadata": {},
   "source": [
    "# Run the sequence allignment with mmseqs2"
   ]
  },
  {
   "cell_type": "markdown",
   "metadata": {},
   "source": [
    "### this is the attempt to run the msa with mmseqs2 (needs to be updated)"
   ]
  },
  {
   "cell_type": "code",
   "execution_count": null,
   "metadata": {},
   "outputs": [],
   "source": [
    "subprocess.run(f\"mmseqs createdb {working_dir}/MSA/{working_name}.fasta {working_dir}/MSA/{working_name}.fasta.db\", shell=True)\n",
    "subprocess.run(f\"mmseqs linclust {working_dir}/MSA/{working_name}.fasta.db {working_dir}/MSA/cluster {working_dir}/MSA/tmp --min-seq-id 0.5 -c 0.7 --cov-mode 1\", shell=True)\n",
    "subprocess.run(f\"mmseqs result2msa {working_dir}/MSA/{working_name}.fasta.db {working_dir}/MSA/{working_name}.fasta.db {working_dir}/MSA/cluster {working_dir}/MSA/cluster.fasta --msa-format-mode 2\", shell=True)\n",
    "\n",
    "subprocess.run(f\"mmseqs createseqfiledb {working_dir}/MSA/{working_name}.fasta.db {working_dir}/MSA/cluster {working_dir}/MSA/cluster_seq\", shell=True)\n",
    "subprocess.run(f\"mmseqs result2flat {working_dir}/MSA/{working_name}.fasta.db {working_dir}/MSA/{working_name}.fasta.db  {working_dir}/MSA/cluster_seq {working_dir}/MSA/cluster_seq.fasta\", shell=True)"
   ]
  },
  {
   "cell_type": "code",
   "execution_count": null,
   "metadata": {},
   "outputs": [],
   "source": [
    "subprocess.run(f\"mmseqs createdb {working_dir}/MSA/{working_name}.fasta {working_dir}/MSA/inputDB\", shell=True)\n",
    "subprocess.run(f\"mmseqs cluster {working_dir}/MSA/inputDB {working_dir}/MSA/clusterDB {working_dir}/MSA/tmp --min-seq-id 0.9\", shell=True)\n",
    "subprocess.run(f\"mmseqs createseqfiledb {working_dir}/MSA/inputDB {working_dir}/MSA/clusterDB {working_dir}/MSA/representDB\", shell=True)\n",
    "subprocess.run(f\"mmseqs align {working_dir}/MSA/inputDB {working_dir}/MSA/inputDB {working_dir}/MSA/clusterDB {working_dir}/MSA/aligmentDB\", shell=True)\n",
    "subprocess.run(f\"mmseqs convertalis {working_dir}/MSA/inputDB {working_dir}/MSA/inputDB {working_dir}/MSA/alignmentDB {working_dir}/MSA/ouput.a3m\", shell=True)"
   ]
  },
  {
   "cell_type": "code",
   "execution_count": null,
   "metadata": {},
   "outputs": [],
   "source": [
    "subprocess.run(f\"mmseqs createsubdb {working_dir}/MSA/cluster {working_dir}/MSA/{working_name}.fasta.db {working_dir}/MSA/cluster_repr\", shell=True)\n",
    "subprocess.run(f\"mmseqs convert2fasta {working_dir}/MSA/cluster_repr {working_dir}/MSA/cluster_repr.fasta\", shell=True)"
   ]
  },
  {
   "cell_type": "code",
   "execution_count": null,
   "metadata": {},
   "outputs": [],
   "source": [
    "subprocess.run(f\"mmseqs align {working_dir}/MSA/cluster_seq {working_dir}/MSA/cluster_seq {working_dir}/MSA/cluster_seq {working_dir}/MSA/cluster_seq_aln\", shell=True)\n",
    "subprocess.run(f\"mmseqs result2msa {working_dir}/MSA/{working_name}.fasta.db {working_dir}/MSA/{working_name}.fasta.db {working_dir}/MSA/cluster_seq_aln {working_dir}/MSA/cluster_seq_msa.fasta --msa-format-mode 2\", shell=True)"
   ]
  },
  {
   "cell_type": "markdown",
   "metadata": {},
   "source": [
    "# Run the sequence allignment with mafft"
   ]
  },
  {
   "cell_type": "code",
   "execution_count": null,
   "metadata": {},
   "outputs": [],
   "source": [
    "# run mafft in the shell with auto mode\n",
    "subprocess.run(f\"mafft --auto {working_dir}/MSA/{working_name}.fasta > {working_dir}/MSA/{working_name}_aligned.fasta\", shell=True)"
   ]
  },
  {
   "cell_type": "markdown",
   "metadata": {},
   "source": [
    "# Generate the phylogenetic tree with FastTree from MSA"
   ]
  },
  {
   "cell_type": "code",
   "execution_count": null,
   "metadata": {},
   "outputs": [],
   "source": [
    "# run FastTree in the shell with the aligned fasta file\n",
    "subprocess.run(f\"FastTree {working_dir}/MSA/{working_name}_aligned.fasta > {working_dir}/TREE/{working_name}.tree\", shell=True)"
   ]
  },
  {
   "cell_type": "markdown",
   "metadata": {},
   "source": [
    "# Manual reroot the tree with ete3"
   ]
  },
  {
   "cell_type": "markdown",
   "metadata": {},
   "source": [
    "### Automatic rerooting of phylogenetic trees with mad"
   ]
  },
  {
   "cell_type": "code",
   "execution_count": null,
   "metadata": {},
   "outputs": [],
   "source": [
    "# run automatic rooting with mad\n",
    "subprocess.run(f\"python ~/mad/mad.py {working_dir}/MSA/{working_name}.fasta\", shell=True)"
   ]
  },
  {
   "cell_type": "markdown",
   "metadata": {},
   "source": [
    "### Manual rerooting of phylogenetic trees with identified outgroup"
   ]
  },
  {
   "cell_type": "code",
   "execution_count": null,
   "metadata": {},
   "outputs": [],
   "source": [
    "# assign tree file frome before\n",
    "tree = Tree(f\"{working_dir}/TREE/{working_name}.tree\")"
   ]
  },
  {
   "cell_type": "markdown",
   "metadata": {},
   "source": [
    "#### Visualize the tree to identify the root"
   ]
  },
  {
   "cell_type": "code",
   "execution_count": null,
   "metadata": {},
   "outputs": [],
   "source": [
    "# customize the tree style\n",
    "ts = TreeStyle()\n",
    "ts.show_branch_length = True\n",
    "ts.show_leaf_name = True\n",
    "\n",
    "# Render and display the tree\n",
    "# tree.show(tree_style=ts)  # Use this if you are running locally and want to display the tree interactively\n",
    "tree.render('%%inline', w=1400, h=1800, tree_style=ts)  # Use this if you want to save the tree to a file"
   ]
  },
  {
   "cell_type": "markdown",
   "metadata": {},
   "source": [
    "#### Reroot the tree"
   ]
  },
  {
   "cell_type": "code",
   "execution_count": null,
   "metadata": {},
   "outputs": [],
   "source": [
    "# find leaf id for organism\n",
    "outgroup_organism = \"Escherichia coli\"\n",
    "try:\n",
    "    outgroup = df[df[\"organism\"] == outgroup_organism][\"primary_id\"].values[0]\n",
    "    print(outgroup)\n",
    "except:\n",
    "    print(\"Organism not found in the dataframe\")"
   ]
  },
  {
   "cell_type": "code",
   "execution_count": null,
   "metadata": {},
   "outputs": [],
   "source": [
    "# reroot the tree\n",
    "tree.set_outgroup(tree&outgroup)\n",
    "\n",
    "# save the rerooted tree\n",
    "tree.write(outfile=\"rerooted_tree_file.nwk\")"
   ]
  }
 ],
 "metadata": {
  "kernelspec": {
   "display_name": "CodonFold",
   "language": "python",
   "name": "python3"
  },
  "language_info": {
   "codemirror_mode": {
    "name": "ipython",
    "version": 3
   },
   "file_extension": ".py",
   "mimetype": "text/x-python",
   "name": "python",
   "nbconvert_exporter": "python",
   "pygments_lexer": "ipython3",
   "version": "3.10.13"
  }
 },
 "nbformat": 4,
 "nbformat_minor": 2
}
